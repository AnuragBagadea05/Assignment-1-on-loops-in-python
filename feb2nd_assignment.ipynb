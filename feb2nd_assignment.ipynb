{
 "cells": [
  {
   "cell_type": "markdown",
   "id": "fab8ac99-9135-411a-bf14-c1ff4962191e",
   "metadata": {},
   "source": [
    "# Assignment_1(2nd Feb)"
   ]
  },
  {
   "cell_type": "markdown",
   "id": "2ae4bc66-ed74-4a7a-986d-7338a73e496f",
   "metadata": {},
   "source": [
    "**Q1 : Explain with an example each when to use a for loop and a while loop.**"
   ]
  },
  {
   "cell_type": "markdown",
   "id": "ba9ea674-151d-48ef-a338-048275483a24",
   "metadata": {},
   "source": [
    "**Ans:**\n",
    "\n",
    "**for Loop:** We use 'for loop' when we want to iterate(perform or utter repeatedly) over a sequence of  different data types in python ex. list,tuple,set, string and dictionary\n",
    "\n",
    "**While loop:** when we want to excute a piece of code in which a certain condition is met"
   ]
  },
  {
   "cell_type": "code",
   "execution_count": 1,
   "id": "22a05c4c-bace-43c1-b2a6-a37e8a9e662b",
   "metadata": {},
   "outputs": [
    {
     "name": "stdout",
     "output_type": "stream",
     "text": [
      "Anurag\n",
      "arjun\n",
      "kartik\n",
      "abhinav\n",
      "pushpak\n"
     ]
    }
   ],
   "source": [
    "#ex. of for loop\n",
    "#names:  [data type list]\n",
    "names = ['Anurag', 'arjun', 'kartik', 'abhinav', 'pushpak']\n",
    "for name in names:\n",
    "    print(name)"
   ]
  },
  {
   "cell_type": "code",
   "execution_count": 2,
   "id": "eb7574bb-7910-40f2-a08c-45e19b4d428e",
   "metadata": {},
   "outputs": [
    {
     "name": "stdout",
     "output_type": "stream",
     "text": [
      "Num = 5 present in list_1\n"
     ]
    }
   ],
   "source": [
    "#ex. of while loop \n",
    "#list_1 :  [data type list]\n",
    "list_1 = [1,2,3,4,5,6,7,8,9,10]\n",
    "num = 5\n",
    "while list_1:\n",
    "    if num in list_1:\n",
    "        print('Num = 5 present in list_1')\n",
    "        break"
   ]
  },
  {
   "cell_type": "markdown",
   "id": "1f4bbfc3-c901-4c9d-bad3-6355910694e1",
   "metadata": {},
   "source": []
  },
  {
   "cell_type": "markdown",
   "id": "bb6afe0d-e71c-47d7-b4d4-241e58d3d840",
   "metadata": {},
   "source": []
  },
  {
   "cell_type": "markdown",
   "id": "8d78142b-14b3-484f-b55e-64cd3e7d1c92",
   "metadata": {},
   "source": [
    "**Q2: Write a python program to print the sum and product of the first 10 natural numbers using for\n",
    "and while loop.**"
   ]
  },
  {
   "cell_type": "markdown",
   "id": "68c93885-00b9-4008-8e31-246ab7806133",
   "metadata": {
    "tags": []
   },
   "source": [
    "example_1 using for loop"
   ]
  },
  {
   "cell_type": "code",
   "execution_count": 3,
   "id": "dbbe9b96-47cf-4c3f-9018-2e4eba3a28a1",
   "metadata": {},
   "outputs": [
    {
     "name": "stdout",
     "output_type": "stream",
     "text": [
      "sum of 1st 10 natural number is:  55\n",
      "sum of 1st 10 natural number is:  3628800\n"
     ]
    }
   ],
   "source": [
    "#ex1. using for loop\n",
    "#sum and product of 1st 10 natural number\n",
    "\n",
    "natural_num = [1, 2, 3, 4, 5, 6, 7, 8, 9, 10]\n",
    "sum = 0\n",
    "product = 1\n",
    "\n",
    "for i in natural_num:\n",
    "    sum += i\n",
    "    product *= i \n",
    "\n",
    "print('sum of 1st 10 natural number is: ', sum)\n",
    "print('sum of 1st 10 natural number is: ', product)"
   ]
  },
  {
   "cell_type": "markdown",
   "id": "08045806-7bd1-4555-98f2-c4de7fbd7049",
   "metadata": {},
   "source": [
    "example_2 using for loop (help of range fuction)"
   ]
  },
  {
   "cell_type": "code",
   "execution_count": 4,
   "id": "22622626-2074-4afc-aca6-4a84aa2528f4",
   "metadata": {},
   "outputs": [
    {
     "name": "stdout",
     "output_type": "stream",
     "text": [
      "sum of 1st 10 natural number is:  55\n",
      "sum of 1st 10 natural number is:  3628800\n"
     ]
    }
   ],
   "source": [
    "#ex. 2 for loop using with the help of range function\n",
    "\n",
    "sum = 0\n",
    "product = 1\n",
    "\n",
    "for i in range(1,11):\n",
    "    sum += i\n",
    "    product *= i\n",
    "\n",
    "print('sum of 1st 10 natural number is: ', sum)\n",
    "print('sum of 1st 10 natural number is: ', product)"
   ]
  },
  {
   "cell_type": "code",
   "execution_count": null,
   "id": "5e27b093-4308-4ab9-9b86-7e2330ff2053",
   "metadata": {},
   "outputs": [],
   "source": []
  },
  {
   "cell_type": "markdown",
   "id": "6bfff247-b68c-4b1d-9b98-fb8e5fcfbb60",
   "metadata": {},
   "source": [
    "Q3 : Create a python program to compute the electricity bill for a household.\n",
    "\n",
    "The per-unit charges in rupees are as follows: For the first 100 units, the user will be charged Rs. 4.5 per unit, for the next 100 units, the user will be charged Rs. 6 per unit, and for the next 100 units, the user will be charged Rs. 10 per unit, After 300 units and above the user will be charged Rs. 20 per unit.\n",
    "\n",
    "You are required to take the units of electricity consumed in a month from the user as input.\n",
    "\n",
    "Your program must pass this test case: when the unit of electricity consumed by the user in a month is 310, the total electricity bill should be 2250.\n",
    "\n",
    "ans: below code\n"
   ]
  },
  {
   "cell_type": "code",
   "execution_count": 5,
   "id": "ad6abc9d-8741-4fcb-be80-513b0224c5d2",
   "metadata": {},
   "outputs": [
    {
     "name": "stdin",
     "output_type": "stream",
     "text": [
      "enetr number: 310\n"
     ]
    },
    {
     "name": "stdout",
     "output_type": "stream",
     "text": [
      "2250\n"
     ]
    }
   ],
   "source": [
    "#my_1st attempt\n",
    "amount = 0\n",
    "num = int(input('enetr number:' ))\n",
    "if num <= 100:\n",
    "    amount = num * 4.5\n",
    "if num >=100 & num <=200:\n",
    "    amount = 450 + (num - 100) *6\n",
    "if num >=201 & num <=301:\n",
    "    amount = 1050 + (num - 200) * 10\n",
    "if num>=301:\n",
    "    amount=2050+(num-300)*20\n",
    "else:\n",
    "    print(\"invalid\")\n",
    "print(amount)"
   ]
  },
  {
   "cell_type": "code",
   "execution_count": 6,
   "id": "2cb85e1b-acc1-4809-8ee0-0e91432d822c",
   "metadata": {},
   "outputs": [
    {
     "name": "stdin",
     "output_type": "stream",
     "text": [
      "Enter the number of unit consumed:  310\n"
     ]
    },
    {
     "name": "stdout",
     "output_type": "stream",
     "text": [
      "total electricty bill is : 2250.0 Rs\n"
     ]
    }
   ],
   "source": [
    "#ex. no. 2\n",
    "unit = int(input('Enter the number of unit consumed: '))\n",
    "bill = 0 \n",
    "if unit <= 100:\n",
    "    bill = unit * 4.5\n",
    "elif unit <=200:\n",
    "    bill = (100*4.5) + ((unit-100) * 6)\n",
    "elif unit <= 300:\n",
    "    bill= (100*4.5) + (100*6) + ((unit-200)-10)\n",
    "else:\n",
    "    bill = (100*4.5) + (100*6) + (100*10) + ((unit-300)*20)\n",
    "print(\"total electricty bill is :\", bill,'Rs')"
   ]
  },
  {
   "cell_type": "code",
   "execution_count": 7,
   "id": "4fc69610-2e21-4b4d-b35d-03a3b432c905",
   "metadata": {},
   "outputs": [
    {
     "name": "stdin",
     "output_type": "stream",
     "text": [
      "Enter the number of units consumed:  310\n"
     ]
    },
    {
     "name": "stdout",
     "output_type": "stream",
     "text": [
      "The total electricity bill is: Rs. 2250.0\n"
     ]
    }
   ],
   "source": [
    "#ex. no. 3 \"USING for loop\n",
    "units = int(input(\"Enter the number of units consumed: \"))\n",
    "bill = 0\n",
    "\n",
    "for i in range(1, units+1):\n",
    "    if i <= 100:\n",
    "        bill += 4.5\n",
    "    elif i <= 200:\n",
    "        bill += 6\n",
    "    elif i <= 300:\n",
    "        bill += 10\n",
    "    else:\n",
    "        bill += 20\n",
    "\n",
    "print(\"The total electricity bill is: Rs.\", bill)"
   ]
  },
  {
   "cell_type": "markdown",
   "id": "5a5bf0f4-e04a-44de-b802-a1021ba17c2a",
   "metadata": {},
   "source": []
  },
  {
   "cell_type": "markdown",
   "id": "49f5df54-e056-48d3-aa23-5c928552ef97",
   "metadata": {},
   "source": [
    "Q4: Create a list of numbers from 1 to 100. Use for loop and while loop to calculate the cube of each\n",
    "number and if the cube of that number is divisible by 4 or 5 then append that number in a list and print\n",
    "that list.\n",
    "\n",
    "Ans: below code"
   ]
  },
  {
   "cell_type": "code",
   "execution_count": 8,
   "id": "5979671b-f872-49e5-95f5-aa89a80cb4e8",
   "metadata": {},
   "outputs": [
    {
     "name": "stdout",
     "output_type": "stream",
     "text": [
      "[2, 4, 5, 6, 8, 10, 12, 14, 15, 16, 18, 20, 22, 24, 25, 26, 28, 30, 32, 34, 35, 36, 38, 40, 42, 44, 45, 46, 48, 50, 52, 54, 55, 56, 58, 60, 62, 64, 65, 66, 68, 70, 72, 74, 75, 76, 78, 80, 82, 84, 85, 86, 88, 90, 92, 94, 95, 96, 98, 100]\n"
     ]
    }
   ],
   "source": [
    "#using for loop\n",
    "list1 = list(range(1,101))\n",
    "list2 = []\n",
    "for i in list1:\n",
    "    cube = i ** 3\n",
    "    if (cube % 4 == 0) or (cube % 5 == 0):\n",
    "        list2.append(i)\n",
    "print(list2)"
   ]
  },
  {
   "cell_type": "markdown",
   "id": "aff1b871-18d9-43c0-8f0e-f0c0280a2500",
   "metadata": {},
   "source": []
  },
  {
   "cell_type": "markdown",
   "id": "03908a86-c788-4fc2-bc6b-0a110ed7d16f",
   "metadata": {},
   "source": [
    "Q5 Write a program to filter count vowels in the below-given string.\n",
    "string = \"I want to become a data scientist\"\n",
    "\n",
    "Ans: below code"
   ]
  },
  {
   "cell_type": "code",
   "execution_count": 9,
   "id": "ba688bc5-5932-4519-bcbe-46b1a9109f72",
   "metadata": {},
   "outputs": [
    {
     "name": "stdout",
     "output_type": "stream",
     "text": [
      "11\n"
     ]
    }
   ],
   "source": [
    "string = \"I want to become a data scientist\"\n",
    "vowels = ['a','e','i','o','u']\n",
    "count_vowels_in_string = 0\n",
    "for elements in string:\n",
    "    if elements in vowels:\n",
    "        count_vowels_in_string += 1\n",
    "        \n",
    "print(count_vowels_in_string)"
   ]
  }
 ],
 "metadata": {
  "kernelspec": {
   "display_name": "Python 3 (ipykernel)",
   "language": "python",
   "name": "python3"
  },
  "language_info": {
   "codemirror_mode": {
    "name": "ipython",
    "version": 3
   },
   "file_extension": ".py",
   "mimetype": "text/x-python",
   "name": "python",
   "nbconvert_exporter": "python",
   "pygments_lexer": "ipython3",
   "version": "3.10.7"
  }
 },
 "nbformat": 4,
 "nbformat_minor": 5
}
